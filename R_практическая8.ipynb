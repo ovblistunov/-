{
 "cells": [
  {
   "cell_type": "markdown",
   "id": "9331dc96-bebc-4456-83cd-31c07c63637b",
   "metadata": {},
   "source": [
    "# Использованные библиотеки"
   ]
  },
  {
   "cell_type": "code",
   "execution_count": null,
   "id": "d0210691-c62c-48fb-8cdc-a84c4e9d21c1",
   "metadata": {},
   "outputs": [],
   "source": [
    "install.packages('dplyr')\n",
    "library(dplyr)\n",
    "library(ggplot2)"
   ]
  },
  {
   "cell_type": "markdown",
   "id": "b9523e67-1660-4b28-80b5-e6b7cfaefb1f",
   "metadata": {},
   "source": [
    "# Задание 1"
   ]
  },
  {
   "cell_type": "markdown",
   "id": "c4fb2612-f991-4153-b42c-b32b3a9fc84e",
   "metadata": {},
   "source": [
    "## Импорт данных"
   ]
  },
  {
   "cell_type": "code",
   "execution_count": 19,
   "id": "d558ce72-875c-40ab-8600-f59ae5fe169d",
   "metadata": {},
   "outputs": [
    {
     "data": {
      "text/html": [
       "<table class=\"dataframe\">\n",
       "<caption>A data.frame: 157 × 16</caption>\n",
       "<thead>\n",
       "\t<tr><th scope=col>Manufacturer</th><th scope=col>Model</th><th scope=col>Sales_in_thousands</th><th scope=col>X__year_resale_value</th><th scope=col>Vehicle_type</th><th scope=col>Price_in_thousands</th><th scope=col>Engine_size</th><th scope=col>Horsepower</th><th scope=col>Wheelbase</th><th scope=col>Width</th><th scope=col>Length</th><th scope=col>Curb_weight</th><th scope=col>Fuel_capacity</th><th scope=col>Fuel_efficiency</th><th scope=col>Latest_Launch</th><th scope=col>Power_perf_factor</th></tr>\n",
       "\t<tr><th scope=col>&lt;chr&gt;</th><th scope=col>&lt;chr&gt;</th><th scope=col>&lt;dbl&gt;</th><th scope=col>&lt;dbl&gt;</th><th scope=col>&lt;chr&gt;</th><th scope=col>&lt;dbl&gt;</th><th scope=col>&lt;dbl&gt;</th><th scope=col>&lt;int&gt;</th><th scope=col>&lt;dbl&gt;</th><th scope=col>&lt;dbl&gt;</th><th scope=col>&lt;dbl&gt;</th><th scope=col>&lt;dbl&gt;</th><th scope=col>&lt;dbl&gt;</th><th scope=col>&lt;int&gt;</th><th scope=col>&lt;chr&gt;</th><th scope=col>&lt;dbl&gt;</th></tr>\n",
       "</thead>\n",
       "<tbody>\n",
       "\t<tr><td>Acura    </td><td>Integra      </td><td> 16.919</td><td>16.360</td><td>Passenger</td><td>21.500</td><td>1.8</td><td>140</td><td>101.2</td><td>67.3</td><td>172.4</td><td>2.639</td><td>13.2</td><td>28</td><td>2/2/2012  </td><td> 58.28015</td></tr>\n",
       "\t<tr><td>Acura    </td><td>TL           </td><td> 39.384</td><td>19.875</td><td>Passenger</td><td>28.400</td><td>3.2</td><td>225</td><td>108.1</td><td>70.3</td><td>192.9</td><td>3.517</td><td>17.2</td><td>25</td><td>6/3/2011  </td><td> 91.37078</td></tr>\n",
       "\t<tr><td>Acura    </td><td>CL           </td><td> 14.114</td><td>18.225</td><td>Passenger</td><td>    NA</td><td>3.2</td><td>225</td><td>106.9</td><td>70.6</td><td>192.0</td><td>3.470</td><td>17.2</td><td>26</td><td>1/4/2012  </td><td>       NA</td></tr>\n",
       "\t<tr><td>Acura    </td><td>RL           </td><td>  8.588</td><td>29.725</td><td>Passenger</td><td>42.000</td><td>3.5</td><td>210</td><td>114.6</td><td>71.4</td><td>196.6</td><td>3.850</td><td>18.0</td><td>22</td><td>3/10/2011 </td><td> 91.38978</td></tr>\n",
       "\t<tr><td>Audi     </td><td>A4           </td><td> 20.397</td><td>22.255</td><td>Passenger</td><td>23.990</td><td>1.8</td><td>150</td><td>102.6</td><td>68.2</td><td>178.0</td><td>2.998</td><td>16.4</td><td>27</td><td>10/8/2011 </td><td> 62.77764</td></tr>\n",
       "\t<tr><td>Audi     </td><td>A6           </td><td> 18.780</td><td>23.555</td><td>Passenger</td><td>33.950</td><td>2.8</td><td>200</td><td>108.7</td><td>76.1</td><td>192.0</td><td>3.561</td><td>18.5</td><td>22</td><td>8/9/2011  </td><td> 84.56511</td></tr>\n",
       "\t<tr><td>Audi     </td><td>A8           </td><td>  1.380</td><td>39.000</td><td>Passenger</td><td>62.000</td><td>4.2</td><td>310</td><td>113.0</td><td>74.0</td><td>198.2</td><td>3.902</td><td>23.7</td><td>21</td><td>2/27/2012 </td><td>134.65686</td></tr>\n",
       "\t<tr><td>BMW      </td><td>323i         </td><td> 19.747</td><td>    NA</td><td>Passenger</td><td>26.990</td><td>2.5</td><td>170</td><td>107.3</td><td>68.4</td><td>176.0</td><td>3.179</td><td>16.6</td><td>26</td><td>6/28/2011 </td><td> 71.19121</td></tr>\n",
       "\t<tr><td>BMW      </td><td>328i         </td><td>  9.231</td><td>28.675</td><td>Passenger</td><td>33.400</td><td>2.8</td><td>193</td><td>107.3</td><td>68.5</td><td>176.0</td><td>3.197</td><td>16.6</td><td>24</td><td>1/29/2012 </td><td> 81.87707</td></tr>\n",
       "\t<tr><td>BMW      </td><td>528i         </td><td> 17.527</td><td>36.125</td><td>Passenger</td><td>38.900</td><td>2.8</td><td>193</td><td>111.4</td><td>70.9</td><td>188.0</td><td>3.472</td><td>18.5</td><td>25</td><td>4/4/2011  </td><td> 83.99872</td></tr>\n",
       "\t<tr><td>Buick    </td><td>Century      </td><td> 91.561</td><td>12.475</td><td>Passenger</td><td>21.975</td><td>3.1</td><td>175</td><td>109.0</td><td>72.7</td><td>194.6</td><td>3.368</td><td>17.5</td><td>25</td><td>11/2/2011 </td><td> 71.18145</td></tr>\n",
       "\t<tr><td>Buick    </td><td>Regal        </td><td> 39.350</td><td>13.740</td><td>Passenger</td><td>25.300</td><td>3.8</td><td>240</td><td>109.0</td><td>72.7</td><td>196.2</td><td>3.543</td><td>17.5</td><td>23</td><td>9/3/2011  </td><td> 95.63670</td></tr>\n",
       "\t<tr><td>Buick    </td><td>Park Avenue  </td><td> 27.851</td><td>20.190</td><td>Passenger</td><td>31.965</td><td>3.8</td><td>205</td><td>113.8</td><td>74.7</td><td>206.8</td><td>3.778</td><td>18.5</td><td>24</td><td>3/23/2012 </td><td> 85.82841</td></tr>\n",
       "\t<tr><td>Buick    </td><td>LeSabre      </td><td> 83.257</td><td>13.360</td><td>Passenger</td><td>27.885</td><td>3.8</td><td>205</td><td>112.2</td><td>73.5</td><td>200.0</td><td>3.591</td><td>17.5</td><td>25</td><td>7/23/2011 </td><td> 84.25453</td></tr>\n",
       "\t<tr><td>Cadillac </td><td>DeVille      </td><td> 63.729</td><td>22.525</td><td>Passenger</td><td>39.895</td><td>4.6</td><td>275</td><td>115.3</td><td>74.5</td><td>207.2</td><td>3.978</td><td>18.5</td><td>22</td><td>2/23/2012 </td><td>113.85460</td></tr>\n",
       "\t<tr><td>Cadillac </td><td>Seville      </td><td> 15.943</td><td>27.100</td><td>Passenger</td><td>44.475</td><td>4.6</td><td>275</td><td>112.2</td><td>75.0</td><td>201.0</td><td>   NA</td><td>18.5</td><td>22</td><td>4/29/2011 </td><td>115.62136</td></tr>\n",
       "\t<tr><td>Cadillac </td><td>Eldorado     </td><td>  6.536</td><td>25.725</td><td>Passenger</td><td>39.665</td><td>4.6</td><td>275</td><td>108.0</td><td>75.5</td><td>200.6</td><td>3.843</td><td>19.0</td><td>22</td><td>11/27/2011</td><td>113.76587</td></tr>\n",
       "\t<tr><td>Cadillac </td><td>Catera       </td><td> 11.185</td><td>18.225</td><td>Passenger</td><td>31.010</td><td>3.0</td><td>200</td><td>107.4</td><td>70.3</td><td>194.8</td><td>3.770</td><td>18.0</td><td>22</td><td>9/28/2011 </td><td> 83.48309</td></tr>\n",
       "\t<tr><td>Cadillac </td><td>Escalade     </td><td> 14.785</td><td>    NA</td><td>Car      </td><td>46.225</td><td>5.7</td><td>255</td><td>117.5</td><td>77.0</td><td>201.2</td><td>5.572</td><td>30.0</td><td>15</td><td>4/17/2012 </td><td>109.50912</td></tr>\n",
       "\t<tr><td>Chevrolet</td><td>Cavalier     </td><td>145.519</td><td> 9.250</td><td>Passenger</td><td>13.260</td><td>2.2</td><td>115</td><td>104.1</td><td>67.9</td><td>180.9</td><td>2.676</td><td>14.3</td><td>27</td><td>8/17/2011 </td><td> 46.36335</td></tr>\n",
       "\t<tr><td>Chevrolet</td><td>Malibu       </td><td>135.126</td><td>11.225</td><td>Passenger</td><td>16.535</td><td>3.1</td><td>170</td><td>107.0</td><td>69.4</td><td>190.4</td><td>3.051</td><td>15.0</td><td>25</td><td>3/19/2012 </td><td> 67.31446</td></tr>\n",
       "\t<tr><td>Chevrolet</td><td>Lumina       </td><td> 24.629</td><td>10.310</td><td>Passenger</td><td>18.890</td><td>3.1</td><td>175</td><td>107.5</td><td>72.5</td><td>200.9</td><td>3.330</td><td>16.6</td><td>25</td><td>5/24/2011 </td><td> 69.99140</td></tr>\n",
       "\t<tr><td>Chevrolet</td><td>Monte Carlo  </td><td> 42.593</td><td>11.525</td><td>Passenger</td><td>19.390</td><td>3.4</td><td>180</td><td>110.5</td><td>72.7</td><td>197.9</td><td>3.340</td><td>17.0</td><td>27</td><td>12/22/2011</td><td> 72.03092</td></tr>\n",
       "\t<tr><td>Chevrolet</td><td>Camaro       </td><td> 26.402</td><td>13.025</td><td>Passenger</td><td>24.340</td><td>3.8</td><td>200</td><td>101.1</td><td>74.1</td><td>193.2</td><td>3.500</td><td>16.8</td><td>25</td><td>10/23/2011</td><td> 81.11854</td></tr>\n",
       "\t<tr><td>Chevrolet</td><td>Corvette     </td><td> 17.947</td><td>36.225</td><td>Passenger</td><td>45.705</td><td>5.7</td><td>345</td><td>104.5</td><td>73.6</td><td>179.7</td><td>3.210</td><td>19.1</td><td>22</td><td>5/12/2012 </td><td>141.14115</td></tr>\n",
       "\t<tr><td>Chevrolet</td><td>Prizm        </td><td> 32.299</td><td> 9.125</td><td>Passenger</td><td>13.960</td><td>1.8</td><td>120</td><td> 97.1</td><td>66.7</td><td>174.3</td><td>2.398</td><td>13.2</td><td>33</td><td>9/11/2011 </td><td> 48.29764</td></tr>\n",
       "\t<tr><td>Chevrolet</td><td>Metro        </td><td> 21.855</td><td> 5.160</td><td>Passenger</td><td> 9.235</td><td>1.0</td><td> 55</td><td> 93.1</td><td>62.6</td><td>149.4</td><td>1.895</td><td>10.3</td><td>45</td><td>4/13/2012 </td><td> 23.27627</td></tr>\n",
       "\t<tr><td>Chevrolet</td><td>Impala       </td><td>107.995</td><td>    NA</td><td>Passenger</td><td>18.890</td><td>3.4</td><td>180</td><td>110.5</td><td>73.0</td><td>200.0</td><td>3.389</td><td>17.0</td><td>27</td><td>6/18/2011 </td><td> 71.83804</td></tr>\n",
       "\t<tr><td>Chrysler </td><td>Sebring Coupe</td><td>  7.854</td><td>12.360</td><td>Passenger</td><td>19.840</td><td>2.5</td><td>163</td><td>103.7</td><td>69.7</td><td>190.9</td><td>2.967</td><td>15.9</td><td>24</td><td>1/16/2012 </td><td> 65.95718</td></tr>\n",
       "\t<tr><td>Chrysler </td><td>Sebring Conv.</td><td> 32.775</td><td>14.180</td><td>Passenger</td><td>24.495</td><td>2.5</td><td>168</td><td>106.0</td><td>69.2</td><td>193.0</td><td>3.332</td><td>16.0</td><td>24</td><td>11/17/2011</td><td> 69.52136</td></tr>\n",
       "\t<tr><td>⋮</td><td>⋮</td><td>⋮</td><td>⋮</td><td>⋮</td><td>⋮</td><td>⋮</td><td>⋮</td><td>⋮</td><td>⋮</td><td>⋮</td><td>⋮</td><td>⋮</td><td>⋮</td><td>⋮</td><td>⋮</td></tr>\n",
       "\t<tr><td>Saab      </td><td>5-Sep       </td><td>  9.191</td><td>    NA</td><td>Passenger</td><td>33.120</td><td>2.3</td><td>170</td><td>106.4</td><td>70.6</td><td>189.2</td><td>3.280</td><td>18.5</td><td>23</td><td>11/9/2012 </td><td> 73.50378</td></tr>\n",
       "\t<tr><td>Saab      </td><td>3-Sep       </td><td> 12.115</td><td>    NA</td><td>Passenger</td><td>26.100</td><td>2.0</td><td>185</td><td>102.6</td><td>67.4</td><td>182.2</td><td>2.990</td><td>16.9</td><td>23</td><td>6/12/2011 </td><td> 76.02305</td></tr>\n",
       "\t<tr><td>Saturn    </td><td>SL          </td><td> 80.620</td><td> 9.200</td><td>Passenger</td><td>10.685</td><td>1.9</td><td>100</td><td>102.4</td><td>66.4</td><td>176.9</td><td>2.332</td><td>12.1</td><td>33</td><td>8/16/2012 </td><td> 39.98642</td></tr>\n",
       "\t<tr><td>Saturn    </td><td>SC          </td><td> 24.546</td><td>10.590</td><td>Passenger</td><td>12.535</td><td>1.9</td><td>100</td><td>102.4</td><td>66.4</td><td>180.0</td><td>2.367</td><td>12.1</td><td>33</td><td>3/16/2011 </td><td> 40.70007</td></tr>\n",
       "\t<tr><td>Saturn    </td><td>SW          </td><td>  5.223</td><td>10.790</td><td>Passenger</td><td>14.290</td><td>1.9</td><td>124</td><td>102.4</td><td>66.4</td><td>176.9</td><td>2.452</td><td>12.1</td><td>31</td><td>1/15/2011 </td><td> 49.86577</td></tr>\n",
       "\t<tr><td>Saturn    </td><td>LW          </td><td>  8.472</td><td>    NA</td><td>Passenger</td><td>18.835</td><td>2.2</td><td>137</td><td>106.5</td><td>69.0</td><td>190.4</td><td>3.075</td><td>13.1</td><td>27</td><td>8/5/2011  </td><td> 56.29524</td></tr>\n",
       "\t<tr><td>Saturn    </td><td>LS          </td><td> 49.989</td><td>    NA</td><td>Passenger</td><td>15.010</td><td>2.2</td><td>137</td><td>106.5</td><td>69.0</td><td>190.4</td><td>2.910</td><td>13.1</td><td>28</td><td>12/4/2012 </td><td> 54.81973</td></tr>\n",
       "\t<tr><td>Subaru    </td><td>Outback     </td><td> 47.107</td><td>    NA</td><td>Passenger</td><td>22.695</td><td>2.5</td><td>165</td><td>103.5</td><td>67.5</td><td>185.8</td><td>3.415</td><td>16.9</td><td>25</td><td>7/7/2011  </td><td> 67.76591</td></tr>\n",
       "\t<tr><td>Subaru    </td><td>Forester    </td><td> 33.028</td><td>    NA</td><td>Car      </td><td>20.095</td><td>2.5</td><td>165</td><td> 99.4</td><td>68.3</td><td>175.2</td><td>3.125</td><td>15.9</td><td>24</td><td>9/10/2012 </td><td> 66.76294</td></tr>\n",
       "\t<tr><td>Toyota    </td><td>Corolla     </td><td>142.535</td><td>10.025</td><td>Passenger</td><td>13.108</td><td>1.8</td><td>120</td><td> 97.0</td><td>66.7</td><td>174.0</td><td>2.420</td><td>13.2</td><td>33</td><td>4/11/2011 </td><td> 47.96897</td></tr>\n",
       "\t<tr><td>Toyota    </td><td>Camry       </td><td>247.994</td><td>13.245</td><td>Passenger</td><td>17.518</td><td>2.2</td><td>133</td><td>105.2</td><td>70.1</td><td>188.5</td><td>2.998</td><td>18.5</td><td>27</td><td>2/10/2011 </td><td> 54.37242</td></tr>\n",
       "\t<tr><td>Toyota    </td><td>Avalon      </td><td> 63.849</td><td>18.140</td><td>Passenger</td><td>25.545</td><td>3.0</td><td>210</td><td>107.1</td><td>71.7</td><td>191.9</td><td>3.417</td><td>18.5</td><td>26</td><td>8/31/2011 </td><td> 84.91190</td></tr>\n",
       "\t<tr><td>Toyota    </td><td>Celica      </td><td> 33.269</td><td>15.445</td><td>Passenger</td><td>16.875</td><td>1.8</td><td>140</td><td>102.4</td><td>68.3</td><td>170.5</td><td>2.425</td><td>14.5</td><td>31</td><td>12/29/2012</td><td> 56.49603</td></tr>\n",
       "\t<tr><td>Toyota    </td><td>Tacoma      </td><td> 84.087</td><td> 9.575</td><td>Car      </td><td>11.528</td><td>2.4</td><td>142</td><td>103.3</td><td>66.5</td><td>178.7</td><td>2.580</td><td>15.1</td><td>23</td><td>8/1/2011  </td><td> 55.29712</td></tr>\n",
       "\t<tr><td>Toyota    </td><td>Sienna      </td><td> 65.119</td><td>    NA</td><td>Car      </td><td>22.368</td><td>3.0</td><td>194</td><td>114.2</td><td>73.4</td><td>193.5</td><td>3.759</td><td>20.9</td><td>22</td><td>10/5/2012 </td><td> 78.02722</td></tr>\n",
       "\t<tr><td>Toyota    </td><td>RAV4        </td><td> 25.106</td><td>13.325</td><td>Car      </td><td>16.888</td><td>2.0</td><td>127</td><td> 94.9</td><td>66.7</td><td>163.8</td><td>2.668</td><td>15.3</td><td>27</td><td>5/6/2011  </td><td> 51.95511</td></tr>\n",
       "\t<tr><td>Toyota    </td><td>4Runner     </td><td> 68.411</td><td>19.425</td><td>Car      </td><td>22.288</td><td>2.7</td><td>150</td><td>105.3</td><td>66.5</td><td>183.3</td><td>3.440</td><td>18.5</td><td>23</td><td>3/7/2011  </td><td> 62.35558</td></tr>\n",
       "\t<tr><td>Toyota    </td><td>Land Cruiser</td><td>  9.835</td><td>34.080</td><td>Car      </td><td>51.728</td><td>4.7</td><td>230</td><td>112.2</td><td>76.4</td><td>192.5</td><td>5.115</td><td>25.4</td><td>15</td><td>9/25/2011 </td><td>102.52898</td></tr>\n",
       "\t<tr><td>Volkswagen</td><td>Golf        </td><td>  9.761</td><td>11.425</td><td>Passenger</td><td>14.900</td><td>2.0</td><td>115</td><td> 98.9</td><td>68.3</td><td>163.3</td><td>2.767</td><td>14.5</td><td>26</td><td>1/24/2011 </td><td> 46.94388</td></tr>\n",
       "\t<tr><td>Volkswagen</td><td>Jetta       </td><td> 83.721</td><td>13.240</td><td>Passenger</td><td>16.700</td><td>2.0</td><td>115</td><td> 98.9</td><td>68.3</td><td>172.3</td><td>2.853</td><td>14.5</td><td>26</td><td>8/27/2011 </td><td> 47.63824</td></tr>\n",
       "\t<tr><td>Volkswagen</td><td>Passat      </td><td> 51.102</td><td>16.725</td><td>Passenger</td><td>21.200</td><td>1.8</td><td>150</td><td>106.4</td><td>68.5</td><td>184.1</td><td>3.043</td><td>16.4</td><td>27</td><td>10/30/2012</td><td> 61.70138</td></tr>\n",
       "\t<tr><td>Volkswagen</td><td>Cabrio      </td><td>  9.569</td><td>16.575</td><td>Passenger</td><td>19.990</td><td>2.0</td><td>115</td><td> 97.4</td><td>66.7</td><td>160.4</td><td>3.079</td><td>13.7</td><td>26</td><td>5/31/2011 </td><td> 48.90737</td></tr>\n",
       "\t<tr><td>Volkswagen</td><td>GTI         </td><td>  5.596</td><td>13.760</td><td>Passenger</td><td>17.500</td><td>2.0</td><td>115</td><td> 98.9</td><td>68.3</td><td>163.3</td><td>2.762</td><td>14.6</td><td>26</td><td>4/1/2011  </td><td> 47.94684</td></tr>\n",
       "\t<tr><td>Volkswagen</td><td>Beetle      </td><td> 49.463</td><td>    NA</td><td>Passenger</td><td>15.900</td><td>2.0</td><td>115</td><td> 98.9</td><td>67.9</td><td>161.1</td><td>2.769</td><td>14.5</td><td>26</td><td>10/20/2011</td><td> 47.32963</td></tr>\n",
       "\t<tr><td>Volvo     </td><td>S40         </td><td> 16.957</td><td>    NA</td><td>Passenger</td><td>23.400</td><td>1.9</td><td>160</td><td>100.5</td><td>67.6</td><td>176.6</td><td>2.998</td><td>15.8</td><td>25</td><td>2/18/2011 </td><td> 66.11306</td></tr>\n",
       "\t<tr><td>Volvo     </td><td>V40         </td><td>  3.545</td><td>    NA</td><td>Passenger</td><td>24.400</td><td>1.9</td><td>160</td><td>100.5</td><td>67.6</td><td>176.6</td><td>3.042</td><td>15.8</td><td>25</td><td>9/21/2011 </td><td> 66.49881</td></tr>\n",
       "\t<tr><td>Volvo     </td><td>S70         </td><td> 15.245</td><td>    NA</td><td>Passenger</td><td>27.500</td><td>2.4</td><td>168</td><td>104.9</td><td>69.3</td><td>185.9</td><td>3.208</td><td>17.9</td><td>25</td><td>11/24/2012</td><td> 70.65450</td></tr>\n",
       "\t<tr><td>Volvo     </td><td>V70         </td><td> 17.531</td><td>    NA</td><td>Passenger</td><td>28.800</td><td>2.4</td><td>168</td><td>104.9</td><td>69.3</td><td>186.2</td><td>3.259</td><td>17.9</td><td>25</td><td>6/25/2011 </td><td> 71.15598</td></tr>\n",
       "\t<tr><td>Volvo     </td><td>C70         </td><td>  3.493</td><td>    NA</td><td>Passenger</td><td>45.500</td><td>2.3</td><td>236</td><td>104.9</td><td>71.5</td><td>185.7</td><td>3.601</td><td>18.5</td><td>23</td><td>4/26/2011 </td><td>101.62336</td></tr>\n",
       "\t<tr><td>Volvo     </td><td>S80         </td><td> 18.969</td><td>    NA</td><td>Passenger</td><td>36.000</td><td>2.9</td><td>201</td><td>109.9</td><td>72.1</td><td>189.8</td><td>3.600</td><td>21.1</td><td>24</td><td>11/14/2011</td><td> 85.73565</td></tr>\n",
       "</tbody>\n",
       "</table>\n"
      ],
      "text/latex": [
       "A data.frame: 157 × 16\n",
       "\\begin{tabular}{llllllllllllllll}\n",
       " Manufacturer & Model & Sales\\_in\\_thousands & X\\_\\_year\\_resale\\_value & Vehicle\\_type & Price\\_in\\_thousands & Engine\\_size & Horsepower & Wheelbase & Width & Length & Curb\\_weight & Fuel\\_capacity & Fuel\\_efficiency & Latest\\_Launch & Power\\_perf\\_factor\\\\\n",
       " <chr> & <chr> & <dbl> & <dbl> & <chr> & <dbl> & <dbl> & <int> & <dbl> & <dbl> & <dbl> & <dbl> & <dbl> & <int> & <chr> & <dbl>\\\\\n",
       "\\hline\n",
       "\t Acura     & Integra       &  16.919 & 16.360 & Passenger & 21.500 & 1.8 & 140 & 101.2 & 67.3 & 172.4 & 2.639 & 13.2 & 28 & 2/2/2012   &  58.28015\\\\\n",
       "\t Acura     & TL            &  39.384 & 19.875 & Passenger & 28.400 & 3.2 & 225 & 108.1 & 70.3 & 192.9 & 3.517 & 17.2 & 25 & 6/3/2011   &  91.37078\\\\\n",
       "\t Acura     & CL            &  14.114 & 18.225 & Passenger &     NA & 3.2 & 225 & 106.9 & 70.6 & 192.0 & 3.470 & 17.2 & 26 & 1/4/2012   &        NA\\\\\n",
       "\t Acura     & RL            &   8.588 & 29.725 & Passenger & 42.000 & 3.5 & 210 & 114.6 & 71.4 & 196.6 & 3.850 & 18.0 & 22 & 3/10/2011  &  91.38978\\\\\n",
       "\t Audi      & A4            &  20.397 & 22.255 & Passenger & 23.990 & 1.8 & 150 & 102.6 & 68.2 & 178.0 & 2.998 & 16.4 & 27 & 10/8/2011  &  62.77764\\\\\n",
       "\t Audi      & A6            &  18.780 & 23.555 & Passenger & 33.950 & 2.8 & 200 & 108.7 & 76.1 & 192.0 & 3.561 & 18.5 & 22 & 8/9/2011   &  84.56511\\\\\n",
       "\t Audi      & A8            &   1.380 & 39.000 & Passenger & 62.000 & 4.2 & 310 & 113.0 & 74.0 & 198.2 & 3.902 & 23.7 & 21 & 2/27/2012  & 134.65686\\\\\n",
       "\t BMW       & 323i          &  19.747 &     NA & Passenger & 26.990 & 2.5 & 170 & 107.3 & 68.4 & 176.0 & 3.179 & 16.6 & 26 & 6/28/2011  &  71.19121\\\\\n",
       "\t BMW       & 328i          &   9.231 & 28.675 & Passenger & 33.400 & 2.8 & 193 & 107.3 & 68.5 & 176.0 & 3.197 & 16.6 & 24 & 1/29/2012  &  81.87707\\\\\n",
       "\t BMW       & 528i          &  17.527 & 36.125 & Passenger & 38.900 & 2.8 & 193 & 111.4 & 70.9 & 188.0 & 3.472 & 18.5 & 25 & 4/4/2011   &  83.99872\\\\\n",
       "\t Buick     & Century       &  91.561 & 12.475 & Passenger & 21.975 & 3.1 & 175 & 109.0 & 72.7 & 194.6 & 3.368 & 17.5 & 25 & 11/2/2011  &  71.18145\\\\\n",
       "\t Buick     & Regal         &  39.350 & 13.740 & Passenger & 25.300 & 3.8 & 240 & 109.0 & 72.7 & 196.2 & 3.543 & 17.5 & 23 & 9/3/2011   &  95.63670\\\\\n",
       "\t Buick     & Park Avenue   &  27.851 & 20.190 & Passenger & 31.965 & 3.8 & 205 & 113.8 & 74.7 & 206.8 & 3.778 & 18.5 & 24 & 3/23/2012  &  85.82841\\\\\n",
       "\t Buick     & LeSabre       &  83.257 & 13.360 & Passenger & 27.885 & 3.8 & 205 & 112.2 & 73.5 & 200.0 & 3.591 & 17.5 & 25 & 7/23/2011  &  84.25453\\\\\n",
       "\t Cadillac  & DeVille       &  63.729 & 22.525 & Passenger & 39.895 & 4.6 & 275 & 115.3 & 74.5 & 207.2 & 3.978 & 18.5 & 22 & 2/23/2012  & 113.85460\\\\\n",
       "\t Cadillac  & Seville       &  15.943 & 27.100 & Passenger & 44.475 & 4.6 & 275 & 112.2 & 75.0 & 201.0 &    NA & 18.5 & 22 & 4/29/2011  & 115.62136\\\\\n",
       "\t Cadillac  & Eldorado      &   6.536 & 25.725 & Passenger & 39.665 & 4.6 & 275 & 108.0 & 75.5 & 200.6 & 3.843 & 19.0 & 22 & 11/27/2011 & 113.76587\\\\\n",
       "\t Cadillac  & Catera        &  11.185 & 18.225 & Passenger & 31.010 & 3.0 & 200 & 107.4 & 70.3 & 194.8 & 3.770 & 18.0 & 22 & 9/28/2011  &  83.48309\\\\\n",
       "\t Cadillac  & Escalade      &  14.785 &     NA & Car       & 46.225 & 5.7 & 255 & 117.5 & 77.0 & 201.2 & 5.572 & 30.0 & 15 & 4/17/2012  & 109.50912\\\\\n",
       "\t Chevrolet & Cavalier      & 145.519 &  9.250 & Passenger & 13.260 & 2.2 & 115 & 104.1 & 67.9 & 180.9 & 2.676 & 14.3 & 27 & 8/17/2011  &  46.36335\\\\\n",
       "\t Chevrolet & Malibu        & 135.126 & 11.225 & Passenger & 16.535 & 3.1 & 170 & 107.0 & 69.4 & 190.4 & 3.051 & 15.0 & 25 & 3/19/2012  &  67.31446\\\\\n",
       "\t Chevrolet & Lumina        &  24.629 & 10.310 & Passenger & 18.890 & 3.1 & 175 & 107.5 & 72.5 & 200.9 & 3.330 & 16.6 & 25 & 5/24/2011  &  69.99140\\\\\n",
       "\t Chevrolet & Monte Carlo   &  42.593 & 11.525 & Passenger & 19.390 & 3.4 & 180 & 110.5 & 72.7 & 197.9 & 3.340 & 17.0 & 27 & 12/22/2011 &  72.03092\\\\\n",
       "\t Chevrolet & Camaro        &  26.402 & 13.025 & Passenger & 24.340 & 3.8 & 200 & 101.1 & 74.1 & 193.2 & 3.500 & 16.8 & 25 & 10/23/2011 &  81.11854\\\\\n",
       "\t Chevrolet & Corvette      &  17.947 & 36.225 & Passenger & 45.705 & 5.7 & 345 & 104.5 & 73.6 & 179.7 & 3.210 & 19.1 & 22 & 5/12/2012  & 141.14115\\\\\n",
       "\t Chevrolet & Prizm         &  32.299 &  9.125 & Passenger & 13.960 & 1.8 & 120 &  97.1 & 66.7 & 174.3 & 2.398 & 13.2 & 33 & 9/11/2011  &  48.29764\\\\\n",
       "\t Chevrolet & Metro         &  21.855 &  5.160 & Passenger &  9.235 & 1.0 &  55 &  93.1 & 62.6 & 149.4 & 1.895 & 10.3 & 45 & 4/13/2012  &  23.27627\\\\\n",
       "\t Chevrolet & Impala        & 107.995 &     NA & Passenger & 18.890 & 3.4 & 180 & 110.5 & 73.0 & 200.0 & 3.389 & 17.0 & 27 & 6/18/2011  &  71.83804\\\\\n",
       "\t Chrysler  & Sebring Coupe &   7.854 & 12.360 & Passenger & 19.840 & 2.5 & 163 & 103.7 & 69.7 & 190.9 & 2.967 & 15.9 & 24 & 1/16/2012  &  65.95718\\\\\n",
       "\t Chrysler  & Sebring Conv. &  32.775 & 14.180 & Passenger & 24.495 & 2.5 & 168 & 106.0 & 69.2 & 193.0 & 3.332 & 16.0 & 24 & 11/17/2011 &  69.52136\\\\\n",
       "\t ⋮ & ⋮ & ⋮ & ⋮ & ⋮ & ⋮ & ⋮ & ⋮ & ⋮ & ⋮ & ⋮ & ⋮ & ⋮ & ⋮ & ⋮ & ⋮\\\\\n",
       "\t Saab       & 5-Sep        &   9.191 &     NA & Passenger & 33.120 & 2.3 & 170 & 106.4 & 70.6 & 189.2 & 3.280 & 18.5 & 23 & 11/9/2012  &  73.50378\\\\\n",
       "\t Saab       & 3-Sep        &  12.115 &     NA & Passenger & 26.100 & 2.0 & 185 & 102.6 & 67.4 & 182.2 & 2.990 & 16.9 & 23 & 6/12/2011  &  76.02305\\\\\n",
       "\t Saturn     & SL           &  80.620 &  9.200 & Passenger & 10.685 & 1.9 & 100 & 102.4 & 66.4 & 176.9 & 2.332 & 12.1 & 33 & 8/16/2012  &  39.98642\\\\\n",
       "\t Saturn     & SC           &  24.546 & 10.590 & Passenger & 12.535 & 1.9 & 100 & 102.4 & 66.4 & 180.0 & 2.367 & 12.1 & 33 & 3/16/2011  &  40.70007\\\\\n",
       "\t Saturn     & SW           &   5.223 & 10.790 & Passenger & 14.290 & 1.9 & 124 & 102.4 & 66.4 & 176.9 & 2.452 & 12.1 & 31 & 1/15/2011  &  49.86577\\\\\n",
       "\t Saturn     & LW           &   8.472 &     NA & Passenger & 18.835 & 2.2 & 137 & 106.5 & 69.0 & 190.4 & 3.075 & 13.1 & 27 & 8/5/2011   &  56.29524\\\\\n",
       "\t Saturn     & LS           &  49.989 &     NA & Passenger & 15.010 & 2.2 & 137 & 106.5 & 69.0 & 190.4 & 2.910 & 13.1 & 28 & 12/4/2012  &  54.81973\\\\\n",
       "\t Subaru     & Outback      &  47.107 &     NA & Passenger & 22.695 & 2.5 & 165 & 103.5 & 67.5 & 185.8 & 3.415 & 16.9 & 25 & 7/7/2011   &  67.76591\\\\\n",
       "\t Subaru     & Forester     &  33.028 &     NA & Car       & 20.095 & 2.5 & 165 &  99.4 & 68.3 & 175.2 & 3.125 & 15.9 & 24 & 9/10/2012  &  66.76294\\\\\n",
       "\t Toyota     & Corolla      & 142.535 & 10.025 & Passenger & 13.108 & 1.8 & 120 &  97.0 & 66.7 & 174.0 & 2.420 & 13.2 & 33 & 4/11/2011  &  47.96897\\\\\n",
       "\t Toyota     & Camry        & 247.994 & 13.245 & Passenger & 17.518 & 2.2 & 133 & 105.2 & 70.1 & 188.5 & 2.998 & 18.5 & 27 & 2/10/2011  &  54.37242\\\\\n",
       "\t Toyota     & Avalon       &  63.849 & 18.140 & Passenger & 25.545 & 3.0 & 210 & 107.1 & 71.7 & 191.9 & 3.417 & 18.5 & 26 & 8/31/2011  &  84.91190\\\\\n",
       "\t Toyota     & Celica       &  33.269 & 15.445 & Passenger & 16.875 & 1.8 & 140 & 102.4 & 68.3 & 170.5 & 2.425 & 14.5 & 31 & 12/29/2012 &  56.49603\\\\\n",
       "\t Toyota     & Tacoma       &  84.087 &  9.575 & Car       & 11.528 & 2.4 & 142 & 103.3 & 66.5 & 178.7 & 2.580 & 15.1 & 23 & 8/1/2011   &  55.29712\\\\\n",
       "\t Toyota     & Sienna       &  65.119 &     NA & Car       & 22.368 & 3.0 & 194 & 114.2 & 73.4 & 193.5 & 3.759 & 20.9 & 22 & 10/5/2012  &  78.02722\\\\\n",
       "\t Toyota     & RAV4         &  25.106 & 13.325 & Car       & 16.888 & 2.0 & 127 &  94.9 & 66.7 & 163.8 & 2.668 & 15.3 & 27 & 5/6/2011   &  51.95511\\\\\n",
       "\t Toyota     & 4Runner      &  68.411 & 19.425 & Car       & 22.288 & 2.7 & 150 & 105.3 & 66.5 & 183.3 & 3.440 & 18.5 & 23 & 3/7/2011   &  62.35558\\\\\n",
       "\t Toyota     & Land Cruiser &   9.835 & 34.080 & Car       & 51.728 & 4.7 & 230 & 112.2 & 76.4 & 192.5 & 5.115 & 25.4 & 15 & 9/25/2011  & 102.52898\\\\\n",
       "\t Volkswagen & Golf         &   9.761 & 11.425 & Passenger & 14.900 & 2.0 & 115 &  98.9 & 68.3 & 163.3 & 2.767 & 14.5 & 26 & 1/24/2011  &  46.94388\\\\\n",
       "\t Volkswagen & Jetta        &  83.721 & 13.240 & Passenger & 16.700 & 2.0 & 115 &  98.9 & 68.3 & 172.3 & 2.853 & 14.5 & 26 & 8/27/2011  &  47.63824\\\\\n",
       "\t Volkswagen & Passat       &  51.102 & 16.725 & Passenger & 21.200 & 1.8 & 150 & 106.4 & 68.5 & 184.1 & 3.043 & 16.4 & 27 & 10/30/2012 &  61.70138\\\\\n",
       "\t Volkswagen & Cabrio       &   9.569 & 16.575 & Passenger & 19.990 & 2.0 & 115 &  97.4 & 66.7 & 160.4 & 3.079 & 13.7 & 26 & 5/31/2011  &  48.90737\\\\\n",
       "\t Volkswagen & GTI          &   5.596 & 13.760 & Passenger & 17.500 & 2.0 & 115 &  98.9 & 68.3 & 163.3 & 2.762 & 14.6 & 26 & 4/1/2011   &  47.94684\\\\\n",
       "\t Volkswagen & Beetle       &  49.463 &     NA & Passenger & 15.900 & 2.0 & 115 &  98.9 & 67.9 & 161.1 & 2.769 & 14.5 & 26 & 10/20/2011 &  47.32963\\\\\n",
       "\t Volvo      & S40          &  16.957 &     NA & Passenger & 23.400 & 1.9 & 160 & 100.5 & 67.6 & 176.6 & 2.998 & 15.8 & 25 & 2/18/2011  &  66.11306\\\\\n",
       "\t Volvo      & V40          &   3.545 &     NA & Passenger & 24.400 & 1.9 & 160 & 100.5 & 67.6 & 176.6 & 3.042 & 15.8 & 25 & 9/21/2011  &  66.49881\\\\\n",
       "\t Volvo      & S70          &  15.245 &     NA & Passenger & 27.500 & 2.4 & 168 & 104.9 & 69.3 & 185.9 & 3.208 & 17.9 & 25 & 11/24/2012 &  70.65450\\\\\n",
       "\t Volvo      & V70          &  17.531 &     NA & Passenger & 28.800 & 2.4 & 168 & 104.9 & 69.3 & 186.2 & 3.259 & 17.9 & 25 & 6/25/2011  &  71.15598\\\\\n",
       "\t Volvo      & C70          &   3.493 &     NA & Passenger & 45.500 & 2.3 & 236 & 104.9 & 71.5 & 185.7 & 3.601 & 18.5 & 23 & 4/26/2011  & 101.62336\\\\\n",
       "\t Volvo      & S80          &  18.969 &     NA & Passenger & 36.000 & 2.9 & 201 & 109.9 & 72.1 & 189.8 & 3.600 & 21.1 & 24 & 11/14/2011 &  85.73565\\\\\n",
       "\\end{tabular}\n"
      ],
      "text/markdown": [
       "\n",
       "A data.frame: 157 × 16\n",
       "\n",
       "| Manufacturer &lt;chr&gt; | Model &lt;chr&gt; | Sales_in_thousands &lt;dbl&gt; | X__year_resale_value &lt;dbl&gt; | Vehicle_type &lt;chr&gt; | Price_in_thousands &lt;dbl&gt; | Engine_size &lt;dbl&gt; | Horsepower &lt;int&gt; | Wheelbase &lt;dbl&gt; | Width &lt;dbl&gt; | Length &lt;dbl&gt; | Curb_weight &lt;dbl&gt; | Fuel_capacity &lt;dbl&gt; | Fuel_efficiency &lt;int&gt; | Latest_Launch &lt;chr&gt; | Power_perf_factor &lt;dbl&gt; |\n",
       "|---|---|---|---|---|---|---|---|---|---|---|---|---|---|---|---|\n",
       "| Acura     | Integra       |  16.919 | 16.360 | Passenger | 21.500 | 1.8 | 140 | 101.2 | 67.3 | 172.4 | 2.639 | 13.2 | 28 | 2/2/2012   |  58.28015 |\n",
       "| Acura     | TL            |  39.384 | 19.875 | Passenger | 28.400 | 3.2 | 225 | 108.1 | 70.3 | 192.9 | 3.517 | 17.2 | 25 | 6/3/2011   |  91.37078 |\n",
       "| Acura     | CL            |  14.114 | 18.225 | Passenger |     NA | 3.2 | 225 | 106.9 | 70.6 | 192.0 | 3.470 | 17.2 | 26 | 1/4/2012   |        NA |\n",
       "| Acura     | RL            |   8.588 | 29.725 | Passenger | 42.000 | 3.5 | 210 | 114.6 | 71.4 | 196.6 | 3.850 | 18.0 | 22 | 3/10/2011  |  91.38978 |\n",
       "| Audi      | A4            |  20.397 | 22.255 | Passenger | 23.990 | 1.8 | 150 | 102.6 | 68.2 | 178.0 | 2.998 | 16.4 | 27 | 10/8/2011  |  62.77764 |\n",
       "| Audi      | A6            |  18.780 | 23.555 | Passenger | 33.950 | 2.8 | 200 | 108.7 | 76.1 | 192.0 | 3.561 | 18.5 | 22 | 8/9/2011   |  84.56511 |\n",
       "| Audi      | A8            |   1.380 | 39.000 | Passenger | 62.000 | 4.2 | 310 | 113.0 | 74.0 | 198.2 | 3.902 | 23.7 | 21 | 2/27/2012  | 134.65686 |\n",
       "| BMW       | 323i          |  19.747 |     NA | Passenger | 26.990 | 2.5 | 170 | 107.3 | 68.4 | 176.0 | 3.179 | 16.6 | 26 | 6/28/2011  |  71.19121 |\n",
       "| BMW       | 328i          |   9.231 | 28.675 | Passenger | 33.400 | 2.8 | 193 | 107.3 | 68.5 | 176.0 | 3.197 | 16.6 | 24 | 1/29/2012  |  81.87707 |\n",
       "| BMW       | 528i          |  17.527 | 36.125 | Passenger | 38.900 | 2.8 | 193 | 111.4 | 70.9 | 188.0 | 3.472 | 18.5 | 25 | 4/4/2011   |  83.99872 |\n",
       "| Buick     | Century       |  91.561 | 12.475 | Passenger | 21.975 | 3.1 | 175 | 109.0 | 72.7 | 194.6 | 3.368 | 17.5 | 25 | 11/2/2011  |  71.18145 |\n",
       "| Buick     | Regal         |  39.350 | 13.740 | Passenger | 25.300 | 3.8 | 240 | 109.0 | 72.7 | 196.2 | 3.543 | 17.5 | 23 | 9/3/2011   |  95.63670 |\n",
       "| Buick     | Park Avenue   |  27.851 | 20.190 | Passenger | 31.965 | 3.8 | 205 | 113.8 | 74.7 | 206.8 | 3.778 | 18.5 | 24 | 3/23/2012  |  85.82841 |\n",
       "| Buick     | LeSabre       |  83.257 | 13.360 | Passenger | 27.885 | 3.8 | 205 | 112.2 | 73.5 | 200.0 | 3.591 | 17.5 | 25 | 7/23/2011  |  84.25453 |\n",
       "| Cadillac  | DeVille       |  63.729 | 22.525 | Passenger | 39.895 | 4.6 | 275 | 115.3 | 74.5 | 207.2 | 3.978 | 18.5 | 22 | 2/23/2012  | 113.85460 |\n",
       "| Cadillac  | Seville       |  15.943 | 27.100 | Passenger | 44.475 | 4.6 | 275 | 112.2 | 75.0 | 201.0 |    NA | 18.5 | 22 | 4/29/2011  | 115.62136 |\n",
       "| Cadillac  | Eldorado      |   6.536 | 25.725 | Passenger | 39.665 | 4.6 | 275 | 108.0 | 75.5 | 200.6 | 3.843 | 19.0 | 22 | 11/27/2011 | 113.76587 |\n",
       "| Cadillac  | Catera        |  11.185 | 18.225 | Passenger | 31.010 | 3.0 | 200 | 107.4 | 70.3 | 194.8 | 3.770 | 18.0 | 22 | 9/28/2011  |  83.48309 |\n",
       "| Cadillac  | Escalade      |  14.785 |     NA | Car       | 46.225 | 5.7 | 255 | 117.5 | 77.0 | 201.2 | 5.572 | 30.0 | 15 | 4/17/2012  | 109.50912 |\n",
       "| Chevrolet | Cavalier      | 145.519 |  9.250 | Passenger | 13.260 | 2.2 | 115 | 104.1 | 67.9 | 180.9 | 2.676 | 14.3 | 27 | 8/17/2011  |  46.36335 |\n",
       "| Chevrolet | Malibu        | 135.126 | 11.225 | Passenger | 16.535 | 3.1 | 170 | 107.0 | 69.4 | 190.4 | 3.051 | 15.0 | 25 | 3/19/2012  |  67.31446 |\n",
       "| Chevrolet | Lumina        |  24.629 | 10.310 | Passenger | 18.890 | 3.1 | 175 | 107.5 | 72.5 | 200.9 | 3.330 | 16.6 | 25 | 5/24/2011  |  69.99140 |\n",
       "| Chevrolet | Monte Carlo   |  42.593 | 11.525 | Passenger | 19.390 | 3.4 | 180 | 110.5 | 72.7 | 197.9 | 3.340 | 17.0 | 27 | 12/22/2011 |  72.03092 |\n",
       "| Chevrolet | Camaro        |  26.402 | 13.025 | Passenger | 24.340 | 3.8 | 200 | 101.1 | 74.1 | 193.2 | 3.500 | 16.8 | 25 | 10/23/2011 |  81.11854 |\n",
       "| Chevrolet | Corvette      |  17.947 | 36.225 | Passenger | 45.705 | 5.7 | 345 | 104.5 | 73.6 | 179.7 | 3.210 | 19.1 | 22 | 5/12/2012  | 141.14115 |\n",
       "| Chevrolet | Prizm         |  32.299 |  9.125 | Passenger | 13.960 | 1.8 | 120 |  97.1 | 66.7 | 174.3 | 2.398 | 13.2 | 33 | 9/11/2011  |  48.29764 |\n",
       "| Chevrolet | Metro         |  21.855 |  5.160 | Passenger |  9.235 | 1.0 |  55 |  93.1 | 62.6 | 149.4 | 1.895 | 10.3 | 45 | 4/13/2012  |  23.27627 |\n",
       "| Chevrolet | Impala        | 107.995 |     NA | Passenger | 18.890 | 3.4 | 180 | 110.5 | 73.0 | 200.0 | 3.389 | 17.0 | 27 | 6/18/2011  |  71.83804 |\n",
       "| Chrysler  | Sebring Coupe |   7.854 | 12.360 | Passenger | 19.840 | 2.5 | 163 | 103.7 | 69.7 | 190.9 | 2.967 | 15.9 | 24 | 1/16/2012  |  65.95718 |\n",
       "| Chrysler  | Sebring Conv. |  32.775 | 14.180 | Passenger | 24.495 | 2.5 | 168 | 106.0 | 69.2 | 193.0 | 3.332 | 16.0 | 24 | 11/17/2011 |  69.52136 |\n",
       "| ⋮ | ⋮ | ⋮ | ⋮ | ⋮ | ⋮ | ⋮ | ⋮ | ⋮ | ⋮ | ⋮ | ⋮ | ⋮ | ⋮ | ⋮ | ⋮ |\n",
       "| Saab       | 5-Sep        |   9.191 |     NA | Passenger | 33.120 | 2.3 | 170 | 106.4 | 70.6 | 189.2 | 3.280 | 18.5 | 23 | 11/9/2012  |  73.50378 |\n",
       "| Saab       | 3-Sep        |  12.115 |     NA | Passenger | 26.100 | 2.0 | 185 | 102.6 | 67.4 | 182.2 | 2.990 | 16.9 | 23 | 6/12/2011  |  76.02305 |\n",
       "| Saturn     | SL           |  80.620 |  9.200 | Passenger | 10.685 | 1.9 | 100 | 102.4 | 66.4 | 176.9 | 2.332 | 12.1 | 33 | 8/16/2012  |  39.98642 |\n",
       "| Saturn     | SC           |  24.546 | 10.590 | Passenger | 12.535 | 1.9 | 100 | 102.4 | 66.4 | 180.0 | 2.367 | 12.1 | 33 | 3/16/2011  |  40.70007 |\n",
       "| Saturn     | SW           |   5.223 | 10.790 | Passenger | 14.290 | 1.9 | 124 | 102.4 | 66.4 | 176.9 | 2.452 | 12.1 | 31 | 1/15/2011  |  49.86577 |\n",
       "| Saturn     | LW           |   8.472 |     NA | Passenger | 18.835 | 2.2 | 137 | 106.5 | 69.0 | 190.4 | 3.075 | 13.1 | 27 | 8/5/2011   |  56.29524 |\n",
       "| Saturn     | LS           |  49.989 |     NA | Passenger | 15.010 | 2.2 | 137 | 106.5 | 69.0 | 190.4 | 2.910 | 13.1 | 28 | 12/4/2012  |  54.81973 |\n",
       "| Subaru     | Outback      |  47.107 |     NA | Passenger | 22.695 | 2.5 | 165 | 103.5 | 67.5 | 185.8 | 3.415 | 16.9 | 25 | 7/7/2011   |  67.76591 |\n",
       "| Subaru     | Forester     |  33.028 |     NA | Car       | 20.095 | 2.5 | 165 |  99.4 | 68.3 | 175.2 | 3.125 | 15.9 | 24 | 9/10/2012  |  66.76294 |\n",
       "| Toyota     | Corolla      | 142.535 | 10.025 | Passenger | 13.108 | 1.8 | 120 |  97.0 | 66.7 | 174.0 | 2.420 | 13.2 | 33 | 4/11/2011  |  47.96897 |\n",
       "| Toyota     | Camry        | 247.994 | 13.245 | Passenger | 17.518 | 2.2 | 133 | 105.2 | 70.1 | 188.5 | 2.998 | 18.5 | 27 | 2/10/2011  |  54.37242 |\n",
       "| Toyota     | Avalon       |  63.849 | 18.140 | Passenger | 25.545 | 3.0 | 210 | 107.1 | 71.7 | 191.9 | 3.417 | 18.5 | 26 | 8/31/2011  |  84.91190 |\n",
       "| Toyota     | Celica       |  33.269 | 15.445 | Passenger | 16.875 | 1.8 | 140 | 102.4 | 68.3 | 170.5 | 2.425 | 14.5 | 31 | 12/29/2012 |  56.49603 |\n",
       "| Toyota     | Tacoma       |  84.087 |  9.575 | Car       | 11.528 | 2.4 | 142 | 103.3 | 66.5 | 178.7 | 2.580 | 15.1 | 23 | 8/1/2011   |  55.29712 |\n",
       "| Toyota     | Sienna       |  65.119 |     NA | Car       | 22.368 | 3.0 | 194 | 114.2 | 73.4 | 193.5 | 3.759 | 20.9 | 22 | 10/5/2012  |  78.02722 |\n",
       "| Toyota     | RAV4         |  25.106 | 13.325 | Car       | 16.888 | 2.0 | 127 |  94.9 | 66.7 | 163.8 | 2.668 | 15.3 | 27 | 5/6/2011   |  51.95511 |\n",
       "| Toyota     | 4Runner      |  68.411 | 19.425 | Car       | 22.288 | 2.7 | 150 | 105.3 | 66.5 | 183.3 | 3.440 | 18.5 | 23 | 3/7/2011   |  62.35558 |\n",
       "| Toyota     | Land Cruiser |   9.835 | 34.080 | Car       | 51.728 | 4.7 | 230 | 112.2 | 76.4 | 192.5 | 5.115 | 25.4 | 15 | 9/25/2011  | 102.52898 |\n",
       "| Volkswagen | Golf         |   9.761 | 11.425 | Passenger | 14.900 | 2.0 | 115 |  98.9 | 68.3 | 163.3 | 2.767 | 14.5 | 26 | 1/24/2011  |  46.94388 |\n",
       "| Volkswagen | Jetta        |  83.721 | 13.240 | Passenger | 16.700 | 2.0 | 115 |  98.9 | 68.3 | 172.3 | 2.853 | 14.5 | 26 | 8/27/2011  |  47.63824 |\n",
       "| Volkswagen | Passat       |  51.102 | 16.725 | Passenger | 21.200 | 1.8 | 150 | 106.4 | 68.5 | 184.1 | 3.043 | 16.4 | 27 | 10/30/2012 |  61.70138 |\n",
       "| Volkswagen | Cabrio       |   9.569 | 16.575 | Passenger | 19.990 | 2.0 | 115 |  97.4 | 66.7 | 160.4 | 3.079 | 13.7 | 26 | 5/31/2011  |  48.90737 |\n",
       "| Volkswagen | GTI          |   5.596 | 13.760 | Passenger | 17.500 | 2.0 | 115 |  98.9 | 68.3 | 163.3 | 2.762 | 14.6 | 26 | 4/1/2011   |  47.94684 |\n",
       "| Volkswagen | Beetle       |  49.463 |     NA | Passenger | 15.900 | 2.0 | 115 |  98.9 | 67.9 | 161.1 | 2.769 | 14.5 | 26 | 10/20/2011 |  47.32963 |\n",
       "| Volvo      | S40          |  16.957 |     NA | Passenger | 23.400 | 1.9 | 160 | 100.5 | 67.6 | 176.6 | 2.998 | 15.8 | 25 | 2/18/2011  |  66.11306 |\n",
       "| Volvo      | V40          |   3.545 |     NA | Passenger | 24.400 | 1.9 | 160 | 100.5 | 67.6 | 176.6 | 3.042 | 15.8 | 25 | 9/21/2011  |  66.49881 |\n",
       "| Volvo      | S70          |  15.245 |     NA | Passenger | 27.500 | 2.4 | 168 | 104.9 | 69.3 | 185.9 | 3.208 | 17.9 | 25 | 11/24/2012 |  70.65450 |\n",
       "| Volvo      | V70          |  17.531 |     NA | Passenger | 28.800 | 2.4 | 168 | 104.9 | 69.3 | 186.2 | 3.259 | 17.9 | 25 | 6/25/2011  |  71.15598 |\n",
       "| Volvo      | C70          |   3.493 |     NA | Passenger | 45.500 | 2.3 | 236 | 104.9 | 71.5 | 185.7 | 3.601 | 18.5 | 23 | 4/26/2011  | 101.62336 |\n",
       "| Volvo      | S80          |  18.969 |     NA | Passenger | 36.000 | 2.9 | 201 | 109.9 | 72.1 | 189.8 | 3.600 | 21.1 | 24 | 11/14/2011 |  85.73565 |\n",
       "\n"
      ],
      "text/plain": [
       "    Manufacturer Model         Sales_in_thousands X__year_resale_value\n",
       "1   Acura        Integra        16.919            16.360              \n",
       "2   Acura        TL             39.384            19.875              \n",
       "3   Acura        CL             14.114            18.225              \n",
       "4   Acura        RL              8.588            29.725              \n",
       "5   Audi         A4             20.397            22.255              \n",
       "6   Audi         A6             18.780            23.555              \n",
       "7   Audi         A8              1.380            39.000              \n",
       "8   BMW          323i           19.747                NA              \n",
       "9   BMW          328i            9.231            28.675              \n",
       "10  BMW          528i           17.527            36.125              \n",
       "11  Buick        Century        91.561            12.475              \n",
       "12  Buick        Regal          39.350            13.740              \n",
       "13  Buick        Park Avenue    27.851            20.190              \n",
       "14  Buick        LeSabre        83.257            13.360              \n",
       "15  Cadillac     DeVille        63.729            22.525              \n",
       "16  Cadillac     Seville        15.943            27.100              \n",
       "17  Cadillac     Eldorado        6.536            25.725              \n",
       "18  Cadillac     Catera         11.185            18.225              \n",
       "19  Cadillac     Escalade       14.785                NA              \n",
       "20  Chevrolet    Cavalier      145.519             9.250              \n",
       "21  Chevrolet    Malibu        135.126            11.225              \n",
       "22  Chevrolet    Lumina         24.629            10.310              \n",
       "23  Chevrolet    Monte Carlo    42.593            11.525              \n",
       "24  Chevrolet    Camaro         26.402            13.025              \n",
       "25  Chevrolet    Corvette       17.947            36.225              \n",
       "26  Chevrolet    Prizm          32.299             9.125              \n",
       "27  Chevrolet    Metro          21.855             5.160              \n",
       "28  Chevrolet    Impala        107.995                NA              \n",
       "29  Chrysler     Sebring Coupe   7.854            12.360              \n",
       "30  Chrysler     Sebring Conv.  32.775            14.180              \n",
       "⋮   ⋮            ⋮             ⋮                  ⋮                   \n",
       "128 Saab         5-Sep           9.191                NA              \n",
       "129 Saab         3-Sep          12.115                NA              \n",
       "130 Saturn       SL             80.620             9.200              \n",
       "131 Saturn       SC             24.546            10.590              \n",
       "132 Saturn       SW              5.223            10.790              \n",
       "133 Saturn       LW              8.472                NA              \n",
       "134 Saturn       LS             49.989                NA              \n",
       "135 Subaru       Outback        47.107                NA              \n",
       "136 Subaru       Forester       33.028                NA              \n",
       "137 Toyota       Corolla       142.535            10.025              \n",
       "138 Toyota       Camry         247.994            13.245              \n",
       "139 Toyota       Avalon         63.849            18.140              \n",
       "140 Toyota       Celica         33.269            15.445              \n",
       "141 Toyota       Tacoma         84.087             9.575              \n",
       "142 Toyota       Sienna         65.119                NA              \n",
       "143 Toyota       RAV4           25.106            13.325              \n",
       "144 Toyota       4Runner        68.411            19.425              \n",
       "145 Toyota       Land Cruiser    9.835            34.080              \n",
       "146 Volkswagen   Golf            9.761            11.425              \n",
       "147 Volkswagen   Jetta          83.721            13.240              \n",
       "148 Volkswagen   Passat         51.102            16.725              \n",
       "149 Volkswagen   Cabrio          9.569            16.575              \n",
       "150 Volkswagen   GTI             5.596            13.760              \n",
       "151 Volkswagen   Beetle         49.463                NA              \n",
       "152 Volvo        S40            16.957                NA              \n",
       "153 Volvo        V40             3.545                NA              \n",
       "154 Volvo        S70            15.245                NA              \n",
       "155 Volvo        V70            17.531                NA              \n",
       "156 Volvo        C70             3.493                NA              \n",
       "157 Volvo        S80            18.969                NA              \n",
       "    Vehicle_type Price_in_thousands Engine_size Horsepower Wheelbase Width\n",
       "1   Passenger    21.500             1.8         140        101.2     67.3 \n",
       "2   Passenger    28.400             3.2         225        108.1     70.3 \n",
       "3   Passenger        NA             3.2         225        106.9     70.6 \n",
       "4   Passenger    42.000             3.5         210        114.6     71.4 \n",
       "5   Passenger    23.990             1.8         150        102.6     68.2 \n",
       "6   Passenger    33.950             2.8         200        108.7     76.1 \n",
       "7   Passenger    62.000             4.2         310        113.0     74.0 \n",
       "8   Passenger    26.990             2.5         170        107.3     68.4 \n",
       "9   Passenger    33.400             2.8         193        107.3     68.5 \n",
       "10  Passenger    38.900             2.8         193        111.4     70.9 \n",
       "11  Passenger    21.975             3.1         175        109.0     72.7 \n",
       "12  Passenger    25.300             3.8         240        109.0     72.7 \n",
       "13  Passenger    31.965             3.8         205        113.8     74.7 \n",
       "14  Passenger    27.885             3.8         205        112.2     73.5 \n",
       "15  Passenger    39.895             4.6         275        115.3     74.5 \n",
       "16  Passenger    44.475             4.6         275        112.2     75.0 \n",
       "17  Passenger    39.665             4.6         275        108.0     75.5 \n",
       "18  Passenger    31.010             3.0         200        107.4     70.3 \n",
       "19  Car          46.225             5.7         255        117.5     77.0 \n",
       "20  Passenger    13.260             2.2         115        104.1     67.9 \n",
       "21  Passenger    16.535             3.1         170        107.0     69.4 \n",
       "22  Passenger    18.890             3.1         175        107.5     72.5 \n",
       "23  Passenger    19.390             3.4         180        110.5     72.7 \n",
       "24  Passenger    24.340             3.8         200        101.1     74.1 \n",
       "25  Passenger    45.705             5.7         345        104.5     73.6 \n",
       "26  Passenger    13.960             1.8         120         97.1     66.7 \n",
       "27  Passenger     9.235             1.0          55         93.1     62.6 \n",
       "28  Passenger    18.890             3.4         180        110.5     73.0 \n",
       "29  Passenger    19.840             2.5         163        103.7     69.7 \n",
       "30  Passenger    24.495             2.5         168        106.0     69.2 \n",
       "⋮   ⋮            ⋮                  ⋮           ⋮          ⋮         ⋮    \n",
       "128 Passenger    33.120             2.3         170        106.4     70.6 \n",
       "129 Passenger    26.100             2.0         185        102.6     67.4 \n",
       "130 Passenger    10.685             1.9         100        102.4     66.4 \n",
       "131 Passenger    12.535             1.9         100        102.4     66.4 \n",
       "132 Passenger    14.290             1.9         124        102.4     66.4 \n",
       "133 Passenger    18.835             2.2         137        106.5     69.0 \n",
       "134 Passenger    15.010             2.2         137        106.5     69.0 \n",
       "135 Passenger    22.695             2.5         165        103.5     67.5 \n",
       "136 Car          20.095             2.5         165         99.4     68.3 \n",
       "137 Passenger    13.108             1.8         120         97.0     66.7 \n",
       "138 Passenger    17.518             2.2         133        105.2     70.1 \n",
       "139 Passenger    25.545             3.0         210        107.1     71.7 \n",
       "140 Passenger    16.875             1.8         140        102.4     68.3 \n",
       "141 Car          11.528             2.4         142        103.3     66.5 \n",
       "142 Car          22.368             3.0         194        114.2     73.4 \n",
       "143 Car          16.888             2.0         127         94.9     66.7 \n",
       "144 Car          22.288             2.7         150        105.3     66.5 \n",
       "145 Car          51.728             4.7         230        112.2     76.4 \n",
       "146 Passenger    14.900             2.0         115         98.9     68.3 \n",
       "147 Passenger    16.700             2.0         115         98.9     68.3 \n",
       "148 Passenger    21.200             1.8         150        106.4     68.5 \n",
       "149 Passenger    19.990             2.0         115         97.4     66.7 \n",
       "150 Passenger    17.500             2.0         115         98.9     68.3 \n",
       "151 Passenger    15.900             2.0         115         98.9     67.9 \n",
       "152 Passenger    23.400             1.9         160        100.5     67.6 \n",
       "153 Passenger    24.400             1.9         160        100.5     67.6 \n",
       "154 Passenger    27.500             2.4         168        104.9     69.3 \n",
       "155 Passenger    28.800             2.4         168        104.9     69.3 \n",
       "156 Passenger    45.500             2.3         236        104.9     71.5 \n",
       "157 Passenger    36.000             2.9         201        109.9     72.1 \n",
       "    Length Curb_weight Fuel_capacity Fuel_efficiency Latest_Launch\n",
       "1   172.4  2.639       13.2          28              2/2/2012     \n",
       "2   192.9  3.517       17.2          25              6/3/2011     \n",
       "3   192.0  3.470       17.2          26              1/4/2012     \n",
       "4   196.6  3.850       18.0          22              3/10/2011    \n",
       "5   178.0  2.998       16.4          27              10/8/2011    \n",
       "6   192.0  3.561       18.5          22              8/9/2011     \n",
       "7   198.2  3.902       23.7          21              2/27/2012    \n",
       "8   176.0  3.179       16.6          26              6/28/2011    \n",
       "9   176.0  3.197       16.6          24              1/29/2012    \n",
       "10  188.0  3.472       18.5          25              4/4/2011     \n",
       "11  194.6  3.368       17.5          25              11/2/2011    \n",
       "12  196.2  3.543       17.5          23              9/3/2011     \n",
       "13  206.8  3.778       18.5          24              3/23/2012    \n",
       "14  200.0  3.591       17.5          25              7/23/2011    \n",
       "15  207.2  3.978       18.5          22              2/23/2012    \n",
       "16  201.0     NA       18.5          22              4/29/2011    \n",
       "17  200.6  3.843       19.0          22              11/27/2011   \n",
       "18  194.8  3.770       18.0          22              9/28/2011    \n",
       "19  201.2  5.572       30.0          15              4/17/2012    \n",
       "20  180.9  2.676       14.3          27              8/17/2011    \n",
       "21  190.4  3.051       15.0          25              3/19/2012    \n",
       "22  200.9  3.330       16.6          25              5/24/2011    \n",
       "23  197.9  3.340       17.0          27              12/22/2011   \n",
       "24  193.2  3.500       16.8          25              10/23/2011   \n",
       "25  179.7  3.210       19.1          22              5/12/2012    \n",
       "26  174.3  2.398       13.2          33              9/11/2011    \n",
       "27  149.4  1.895       10.3          45              4/13/2012    \n",
       "28  200.0  3.389       17.0          27              6/18/2011    \n",
       "29  190.9  2.967       15.9          24              1/16/2012    \n",
       "30  193.0  3.332       16.0          24              11/17/2011   \n",
       "⋮   ⋮      ⋮           ⋮             ⋮               ⋮            \n",
       "128 189.2  3.280       18.5          23              11/9/2012    \n",
       "129 182.2  2.990       16.9          23              6/12/2011    \n",
       "130 176.9  2.332       12.1          33              8/16/2012    \n",
       "131 180.0  2.367       12.1          33              3/16/2011    \n",
       "132 176.9  2.452       12.1          31              1/15/2011    \n",
       "133 190.4  3.075       13.1          27              8/5/2011     \n",
       "134 190.4  2.910       13.1          28              12/4/2012    \n",
       "135 185.8  3.415       16.9          25              7/7/2011     \n",
       "136 175.2  3.125       15.9          24              9/10/2012    \n",
       "137 174.0  2.420       13.2          33              4/11/2011    \n",
       "138 188.5  2.998       18.5          27              2/10/2011    \n",
       "139 191.9  3.417       18.5          26              8/31/2011    \n",
       "140 170.5  2.425       14.5          31              12/29/2012   \n",
       "141 178.7  2.580       15.1          23              8/1/2011     \n",
       "142 193.5  3.759       20.9          22              10/5/2012    \n",
       "143 163.8  2.668       15.3          27              5/6/2011     \n",
       "144 183.3  3.440       18.5          23              3/7/2011     \n",
       "145 192.5  5.115       25.4          15              9/25/2011    \n",
       "146 163.3  2.767       14.5          26              1/24/2011    \n",
       "147 172.3  2.853       14.5          26              8/27/2011    \n",
       "148 184.1  3.043       16.4          27              10/30/2012   \n",
       "149 160.4  3.079       13.7          26              5/31/2011    \n",
       "150 163.3  2.762       14.6          26              4/1/2011     \n",
       "151 161.1  2.769       14.5          26              10/20/2011   \n",
       "152 176.6  2.998       15.8          25              2/18/2011    \n",
       "153 176.6  3.042       15.8          25              9/21/2011    \n",
       "154 185.9  3.208       17.9          25              11/24/2012   \n",
       "155 186.2  3.259       17.9          25              6/25/2011    \n",
       "156 185.7  3.601       18.5          23              4/26/2011    \n",
       "157 189.8  3.600       21.1          24              11/14/2011   \n",
       "    Power_perf_factor\n",
       "1    58.28015        \n",
       "2    91.37078        \n",
       "3          NA        \n",
       "4    91.38978        \n",
       "5    62.77764        \n",
       "6    84.56511        \n",
       "7   134.65686        \n",
       "8    71.19121        \n",
       "9    81.87707        \n",
       "10   83.99872        \n",
       "11   71.18145        \n",
       "12   95.63670        \n",
       "13   85.82841        \n",
       "14   84.25453        \n",
       "15  113.85460        \n",
       "16  115.62136        \n",
       "17  113.76587        \n",
       "18   83.48309        \n",
       "19  109.50912        \n",
       "20   46.36335        \n",
       "21   67.31446        \n",
       "22   69.99140        \n",
       "23   72.03092        \n",
       "24   81.11854        \n",
       "25  141.14115        \n",
       "26   48.29764        \n",
       "27   23.27627        \n",
       "28   71.83804        \n",
       "29   65.95718        \n",
       "30   69.52136        \n",
       "⋮   ⋮                \n",
       "128  73.50378        \n",
       "129  76.02305        \n",
       "130  39.98642        \n",
       "131  40.70007        \n",
       "132  49.86577        \n",
       "133  56.29524        \n",
       "134  54.81973        \n",
       "135  67.76591        \n",
       "136  66.76294        \n",
       "137  47.96897        \n",
       "138  54.37242        \n",
       "139  84.91190        \n",
       "140  56.49603        \n",
       "141  55.29712        \n",
       "142  78.02722        \n",
       "143  51.95511        \n",
       "144  62.35558        \n",
       "145 102.52898        \n",
       "146  46.94388        \n",
       "147  47.63824        \n",
       "148  61.70138        \n",
       "149  48.90737        \n",
       "150  47.94684        \n",
       "151  47.32963        \n",
       "152  66.11306        \n",
       "153  66.49881        \n",
       "154  70.65450        \n",
       "155  71.15598        \n",
       "156 101.62336        \n",
       "157  85.73565        "
      ]
     },
     "metadata": {},
     "output_type": "display_data"
    }
   ],
   "source": [
    "df = read.csv(\"C:/Users/Oleg/Downloads/Car_sales.csv\")\n",
    "df"
   ]
  },
  {
   "cell_type": "markdown",
   "id": "81ba8d24-b890-46a0-a05c-72567dc0ec11",
   "metadata": {},
   "source": [
    "## Статистика по датасету"
   ]
  },
  {
   "cell_type": "code",
   "execution_count": 394,
   "id": "3c0e4949-e9ae-468a-a4ca-ed9f9494e9a5",
   "metadata": {},
   "outputs": [
    {
     "name": "stdout",
     "output_type": "stream",
     "text": [
      "'data.frame':\t157 obs. of  16 variables:\n",
      " $ Manufacturer        : chr  \"Acura\" \"Acura\" \"Acura\" \"Acura\" ...\n",
      " $ Model               : chr  \"Integra\" \"TL\" \"CL\" \"RL\" ...\n",
      " $ Sales_in_thousands  : num  16.92 39.38 14.11 8.59 20.4 ...\n",
      " $ X__year_resale_value: num  16.4 19.9 18.2 29.7 22.3 ...\n",
      " $ Vehicle_type        : chr  \"Passenger\" \"Passenger\" \"Passenger\" \"Passenger\" ...\n",
      " $ Price_in_thousands  : num  21.5 28.4 NA 42 24 ...\n",
      " $ Engine_size         : num  1.8 3.2 3.2 3.5 1.8 2.8 4.2 2.5 2.8 2.8 ...\n",
      " $ Horsepower          : int  140 225 225 210 150 200 310 170 193 193 ...\n",
      " $ Wheelbase           : num  101 108 107 115 103 ...\n",
      " $ Width               : num  67.3 70.3 70.6 71.4 68.2 76.1 74 68.4 68.5 70.9 ...\n",
      " $ Length              : num  172 193 192 197 178 ...\n",
      " $ Curb_weight         : num  2.64 3.52 3.47 3.85 3 ...\n",
      " $ Fuel_capacity       : num  13.2 17.2 17.2 18 16.4 18.5 23.7 16.6 16.6 18.5 ...\n",
      " $ Fuel_efficiency     : int  28 25 26 22 27 22 21 26 24 25 ...\n",
      " $ Latest_Launch       : chr  \"2/2/2012\" \"6/3/2011\" \"1/4/2012\" \"3/10/2011\" ...\n",
      " $ Power_perf_factor   : num  58.3 91.4 NA 91.4 62.8 ...\n"
     ]
    }
   ],
   "source": [
    "summary(df)"
   ]
  },
  {
   "cell_type": "markdown",
   "id": "d7e2e929-2de5-466c-8d14-3008dbd3e5d3",
   "metadata": {},
   "source": [
    "# Задание 2"
   ]
  },
  {
   "cell_type": "markdown",
   "id": "0b4803b8-543b-48d8-a6bf-bbf30440a919",
   "metadata": {},
   "source": [
    "## Продажи машин по производителю"
   ]
  },
  {
   "cell_type": "code",
   "execution_count": 395,
   "id": "e3dceb6c-6833-49e7-9791-efd27219599d",
   "metadata": {},
   "outputs": [
    {
     "data": {
      "text/html": [
       "<table class=\"dataframe\">\n",
       "<caption>A tibble: 3 × 2</caption>\n",
       "<thead>\n",
       "\t<tr><th scope=col>Manufacturer</th><th scope=col>sales</th></tr>\n",
       "\t<tr><th scope=col>&lt;chr&gt;</th><th scope=col>&lt;dbl&gt;</th></tr>\n",
       "</thead>\n",
       "<tbody>\n",
       "\t<tr><td>Ford  </td><td>2022.635</td></tr>\n",
       "\t<tr><td>Dodge </td><td> 910.149</td></tr>\n",
       "\t<tr><td>Toyota</td><td> 740.205</td></tr>\n",
       "</tbody>\n",
       "</table>\n"
      ],
      "text/latex": [
       "A tibble: 3 × 2\n",
       "\\begin{tabular}{ll}\n",
       " Manufacturer & sales\\\\\n",
       " <chr> & <dbl>\\\\\n",
       "\\hline\n",
       "\t Ford   & 2022.635\\\\\n",
       "\t Dodge  &  910.149\\\\\n",
       "\t Toyota &  740.205\\\\\n",
       "\\end{tabular}\n"
      ],
      "text/markdown": [
       "\n",
       "A tibble: 3 × 2\n",
       "\n",
       "| Manufacturer &lt;chr&gt; | sales &lt;dbl&gt; |\n",
       "|---|---|\n",
       "| Ford   | 2022.635 |\n",
       "| Dodge  |  910.149 |\n",
       "| Toyota |  740.205 |\n",
       "\n"
      ],
      "text/plain": [
       "  Manufacturer sales   \n",
       "1 Ford         2022.635\n",
       "2 Dodge         910.149\n",
       "3 Toyota        740.205"
      ]
     },
     "metadata": {},
     "output_type": "display_data"
    },
    {
     "data": {
      "image/png": "[encoded data removed]",
      "text/plain": [
       "Plot with title \"Доля проданных машин определенного производителя \n",
       " в общем объёме продаж\""
      ]
     },
     "metadata": {
      "image/png": {
       "height": 420,
       "width": 420
      }
     },
     "output_type": "display_data"
    }
   ],
   "source": [
    "#Группирую данные по производителю, считаю кол-во продаж\n",
    "df_m = df %>% \n",
    "    group_by(Manufacturer) %>%\n",
    "    summarize(sales = sum(Sales_in_thousands))\n",
    "# Визуализация кол-ва продаж\n",
    "pie(df_m$sales, labels = df_m$Manufacturer, main = 'Доля проданных машин определенного производителя \\n в общем объёме продаж')\n",
    "# Топ-3 производителя с наибольшим объёмом продаж\n",
    "df_m[order (-df_m$sales),][0:3,0:2]"
   ]
  },
  {
   "cell_type": "markdown",
   "id": "adf6e77b-18de-4085-b8c0-948ef18ab9fc",
   "metadata": {},
   "source": [
    "# Задание 3"
   ]
  },
  {
   "cell_type": "markdown",
   "id": "c7937570-9142-4ccf-831a-235eebbce536",
   "metadata": {},
   "source": [
    "## Сравнение 5-ти наиболее часто продаваемых машин"
   ]
  },
  {
   "cell_type": "code",
   "execution_count": 393,
   "id": "a25c36b0-4dae-449a-80db-ae26c56ac5ab",
   "metadata": {},
   "outputs": [
    {
     "data": {
      "text/html": [
       "<table class=\"dataframe\">\n",
       "<caption>A data.frame: 5 × 5</caption>\n",
       "<thead>\n",
       "\t<tr><th></th><th scope=col>Model</th><th scope=col>Price_in_thousands</th><th scope=col>Horsepower</th><th scope=col>Curb_weight</th><th scope=col>Fuel_efficiency</th></tr>\n",
       "\t<tr><th></th><th scope=col>&lt;chr&gt;</th><th scope=col>&lt;dbl&gt;</th><th scope=col>&lt;int&gt;</th><th scope=col>&lt;dbl&gt;</th><th scope=col>&lt;int&gt;</th></tr>\n",
       "</thead>\n",
       "<tbody>\n",
       "\t<tr><th scope=row>57</th><td>F-Series</td><td>26.935</td><td>220</td><td>4.241</td><td>18</td></tr>\n",
       "\t<tr><th scope=row>53</th><td>Explorer</td><td>31.930</td><td>210</td><td>3.876</td><td>19</td></tr>\n",
       "\t<tr><th scope=row>138</th><td>Camry   </td><td>17.518</td><td>133</td><td>2.998</td><td>27</td></tr>\n",
       "\t<tr><th scope=row>50</th><td>Taurus  </td><td>17.885</td><td>155</td><td>3.368</td><td>24</td></tr>\n",
       "\t<tr><th scope=row>59</th><td>Accord  </td><td>15.350</td><td>135</td><td>2.932</td><td>27</td></tr>\n",
       "</tbody>\n",
       "</table>\n"
      ],
      "text/latex": [
       "A data.frame: 5 × 5\n",
       "\\begin{tabular}{r|lllll}\n",
       "  & Model & Price\\_in\\_thousands & Horsepower & Curb\\_weight & Fuel\\_efficiency\\\\\n",
       "  & <chr> & <dbl> & <int> & <dbl> & <int>\\\\\n",
       "\\hline\n",
       "\t57 & F-Series & 26.935 & 220 & 4.241 & 18\\\\\n",
       "\t53 & Explorer & 31.930 & 210 & 3.876 & 19\\\\\n",
       "\t138 & Camry    & 17.518 & 133 & 2.998 & 27\\\\\n",
       "\t50 & Taurus   & 17.885 & 155 & 3.368 & 24\\\\\n",
       "\t59 & Accord   & 15.350 & 135 & 2.932 & 27\\\\\n",
       "\\end{tabular}\n"
      ],
      "text/markdown": [
       "\n",
       "A data.frame: 5 × 5\n",
       "\n",
       "| <!--/--> | Model &lt;chr&gt; | Price_in_thousands &lt;dbl&gt; | Horsepower &lt;int&gt; | Curb_weight &lt;dbl&gt; | Fuel_efficiency &lt;int&gt; |\n",
       "|---|---|---|---|---|---|\n",
       "| 57 | F-Series | 26.935 | 220 | 4.241 | 18 |\n",
       "| 53 | Explorer | 31.930 | 210 | 3.876 | 19 |\n",
       "| 138 | Camry    | 17.518 | 133 | 2.998 | 27 |\n",
       "| 50 | Taurus   | 17.885 | 155 | 3.368 | 24 |\n",
       "| 59 | Accord   | 15.350 | 135 | 2.932 | 27 |\n",
       "\n"
      ],
      "text/plain": [
       "    Model    Price_in_thousands Horsepower Curb_weight Fuel_efficiency\n",
       "57  F-Series 26.935             220        4.241       18             \n",
       "53  Explorer 31.930             210        3.876       19             \n",
       "138 Camry    17.518             133        2.998       27             \n",
       "50  Taurus   17.885             155        3.368       24             \n",
       "59  Accord   15.350             135        2.932       27             "
      ]
     },
     "metadata": {},
     "output_type": "display_data"
    },
    {
     "data": {
      "image/png": "[encoded data removed]",
      "text/plain": [
       "Plot with title \"Цена (тыс долл)\""
      ]
     },
     "metadata": {
      "image/png": {
       "height": 420,
       "width": 420
      }
     },
     "output_type": "display_data"
    },
    {
     "data": {
      "image/png": "[encoded data removed]",
      "text/plain": [
       "Plot with title \"Кол-во лошадиных сил\""
      ]
     },
     "metadata": {
      "image/png": {
       "height": 420,
       "width": 420
      }
     },
     "output_type": "display_data"
    },
    {
     "data": {
      "image/png": "[encoded data removed]",
      "text/plain": [
       "Plot with title \"Вес\""
      ]
     },
     "metadata": {
      "image/png": {
       "height": 420,
       "width": 420
      }
     },
     "output_type": "display_data"
    },
    {
     "data": {
      "image/png": "[encoded data removed]",
      "text/plain": [
       "Plot with title \"Эффективность потребление топлива\""
      ]
     },
     "metadata": {
      "image/png": {
       "height": 420,
       "width": 420
      }
     },
     "output_type": "display_data"
    }
   ],
   "source": [
    "df_top = df[order (-df$Sales_in_thousands),][0:5,][c(2,6,8,12,14)]\n",
    "#Топ-5 таблица\n",
    "View(df_top)\n",
    "#Столбчатые диаграммы\n",
    "par(mfrow = c(2, 2))\n",
    "barplot(df_top$Price_in_thousands, names.arg = df_top$Model, col='red', main = 'Цена (тыс долл)')\n",
    "barplot(df_top$Horsepower, col='yellow',names.arg = df_top$Model,main = 'Кол-во лошадиных сил')\n",
    "barplot(df_top$Curb_weight, col='blue',names.arg = df_top$Model, main = 'Вес')\n",
    "barplot(df_top$Fuel_efficiency, col='green',names.arg = df_top$Model, main = 'Эффективность потребление топлива')"
   ]
  },
  {
   "cell_type": "markdown",
   "id": "9ec84e56-ec8b-405c-b597-83aed9372a4d",
   "metadata": {},
   "source": [
    "# Задание 4"
   ]
  },
  {
   "cell_type": "markdown",
   "id": "cd446856-f387-4370-9f5f-728a9515241f",
   "metadata": {},
   "source": [
    "## Изучение взаимосвязи цены и кол-ва проданных автомобилей"
   ]
  },
  {
   "cell_type": "code",
   "execution_count": 381,
   "id": "112a4f3c-8740-4a2e-a550-ae71e3b1a76c",
   "metadata": {},
   "outputs": [
    {
     "data": {
      "text/html": [
       "-0.297456089676743"
      ],
      "text/latex": [
       "-0.297456089676743"
      ],
      "text/markdown": [
       "-0.297456089676743"
      ],
      "text/plain": [
       "[1] -0.2974561"
      ]
     },
     "metadata": {},
     "output_type": "display_data"
    },
    {
     "data": {
      "text/html": [
       "-0.290750287853474"
      ],
      "text/latex": [
       "-0.290750287853474"
      ],
      "text/markdown": [
       "-0.290750287853474"
      ],
      "text/plain": [
       "[1] -0.2907503"
      ]
     },
     "metadata": {},
     "output_type": "display_data"
    }
   ],
   "source": [
    "#ДФ с продажами и ценами\n",
    "df_cor = df[c('Sales_in_thousands','Price_in_thousands')]\n",
    "# Вычисление коэфф корреляции вручную\n",
    "df_cor$xy = df_cor$Sales_in_thousands * df_cor$Price_in_thousands\n",
    "kk = (mean(df_cor$xy,na.rm=TRUE) - mean(df_cor$Sales_in_thousands,na.rm=TRUE) * mean(df_cor$Price_in_thousands,na.rm=TRUE))/(sd(df_cor$Sales_in_thousands,na.rm=TRUE)*sd(df_cor$Price_in_thousands,na.rm=TRUE))\n",
    "View(kk)\n",
    "# Вычисление коэфф корреляции через встроенную функцию\n",
    "df_cor[is.na(df_cor)] <- 0\n",
    "kk = cor(df_cor$Sales_in_thousands,df_cor$Price_in_thousands)\n",
    "View(kk)"
   ]
  },
  {
   "cell_type": "markdown",
   "id": "e7a74e3a-f489-48eb-93a2-ae7fccbae38f",
   "metadata": {},
   "source": [
    "## Коэффициенты, вычисленные двумя способами равны -0.29. Это означает, что связь между продажами автомобилей и их ценой обратная (чем меньше цена, тем выше продажи) и слабая. Сл-но, на продажи в большей мере влияют другие факторы, например, известность бренда и хар-ки автомобиля"
   ]
  },
  {
   "cell_type": "code",
   "execution_count": 403,
   "id": "764a31f7-0fed-4975-aa8c-c644ec9334f8",
   "metadata": {},
   "outputs": [
    {
     "name": "stderr",
     "output_type": "stream",
     "text": [
      "\u001b[1m\u001b[22m`geom_smooth()` using formula = 'y ~ x'\n"
     ]
    },
    {
     "data": {
      "image/png": "[encoded data removed]",
      "text/plain": [
       "plot without title"
      ]
     },
     "metadata": {
      "image/png": {
       "height": 420,
       "width": 420
      }
     },
     "output_type": "display_data"
    }
   ],
   "source": [
    "ggplot(df_cor, aes(Sales_in_thousands, Price_in_thousands))+ geom_point(size = 1) + geom_smooth(method = \"lm\")"
   ]
  }
 ],
 "metadata": {
  "kernelspec": {
   "display_name": "R",
   "language": "R",
   "name": "ir"
  },
  "language_info": {
   "codemirror_mode": "r",
   "file_extension": ".r",
   "mimetype": "text/x-r-source",
   "name": "R",
   "pygments_lexer": "r",
   "version": "4.3.2"
  }
 },
 "nbformat": 4,
 "nbformat_minor": 5
}
